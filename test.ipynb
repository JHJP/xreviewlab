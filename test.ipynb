{
 "cells": [
  {
   "cell_type": "code",
   "execution_count": 9,
   "id": "5dcbdd88",
   "metadata": {},
   "outputs": [],
   "source": [
    "import pandas as pd\n",
    "df = pd.read_csv(\"total_brand_reviews_df.csv\")"
   ]
  },
  {
   "cell_type": "code",
   "execution_count": 10,
   "id": "a32122d5",
   "metadata": {},
   "outputs": [
    {
     "data": {
      "text/plain": [
       "'{\"앰플 문제\": {\"cost\": \"\", \"time\": \"\"}, \"좁쌀 발생\": {\"cost\": \"\", \"time\": \"\"}, \"재구매 의사 없음\": {\"cost\": \"\", \"time\": \"\"}, \"흡수 속도\": {\"cost\": \"\", \"time\": \"\"}, \"유통기한 문제\": {\"cost\": \"\", \"time\": \"\"}, \"상세페이지 수정\": {\"cost\": \"\", \"time\": \"\"}, \"제품 디자인 변경\": {\"cost\": \"\", \"time\": \"\"}, \"제품 부작용\": {\"cost\": \"\", \"time\": \"\"}, \"피부 자극\": {\"cost\": \"10\", \"time\": \"10\"}}'"
      ]
     },
     "metadata": {},
     "output_type": "display_data"
    }
   ],
   "source": [
    "display(df[\"keyword_plan_info\"][0])"
   ]
  }
 ],
 "metadata": {
  "kernelspec": {
   "display_name": "Python 3",
   "language": "python",
   "name": "python3"
  },
  "language_info": {
   "codemirror_mode": {
    "name": "ipython",
    "version": 3
   },
   "file_extension": ".py",
   "mimetype": "text/x-python",
   "name": "python",
   "nbconvert_exporter": "python",
   "pygments_lexer": "ipython3",
   "version": "3.9.6"
  }
 },
 "nbformat": 4,
 "nbformat_minor": 5
}
