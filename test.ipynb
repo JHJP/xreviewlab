{
 "cells": [
  {
   "cell_type": "code",
   "execution_count": 4,
   "id": "5dcbdd88",
   "metadata": {},
   "outputs": [
    {
     "data": {
      "text/plain": [
       "Index(['goodsNo', 'nickname', 'profile_present', 'top_rank_present',\n",
       "       'badges_present', 'score', 'date', 'content', 'help_cnt',\n",
       "       'photo_present', 'word_count', 'damage', 'keywords', 'prd_link',\n",
       "       'prd_name', 'rating', 'prd_platform', 'real_keywords_all',\n",
       "       'real_keywords_dmg_dict', 'embedding', 'keyword_plan_info'],\n",
       "      dtype='object')"
      ]
     },
     "execution_count": 4,
     "metadata": {},
     "output_type": "execute_result"
    }
   ],
   "source": [
    "import pandas as pd\n",
    "df = pd.read_csv(\"total_brand_reviews_df.csv\")\n",
    "df.columns"
   ]
  },
  {
   "cell_type": "code",
   "execution_count": 5,
   "id": "a32122d5",
   "metadata": {},
   "outputs": [
    {
     "data": {
      "text/plain": [
       "'{\"민감성 피부 문제\": {\"cost\": 18000000, \"time\": 14}, \"앰플 문제\": {\"cost\": 18000000, \"time\": 14}, \"좁쌀 발생\": {\"cost\": 0, \"time\": 0}, \"재구매 의사 없음\": {\"cost\": 0, \"time\": 0}, \"흡수 속도\": {\"cost\": 14000000, \"time\": 9}, \"연령 적합성\": {\"cost\": 0, \"time\": 0}, \"상세페이지 수정\": {\"cost\": 0, \"time\": 0}, \"제품 디자인 변경\": {\"cost\": 0, \"time\": 0}, \"제품 부작용\": {\"cost\": 18000000, \"time\": 14}}'"
      ]
     },
     "metadata": {},
     "output_type": "display_data"
    }
   ],
   "source": [
    "display(df[\"keyword_plan_info\"][0])"
   ]
  }
 ],
 "metadata": {
  "kernelspec": {
   "display_name": "Python 3",
   "language": "python",
   "name": "python3"
  },
  "language_info": {
   "codemirror_mode": {
    "name": "ipython",
    "version": 3
   },
   "file_extension": ".py",
   "mimetype": "text/x-python",
   "name": "python",
   "nbconvert_exporter": "python",
   "pygments_lexer": "ipython3",
   "version": "3.9.6"
  }
 },
 "nbformat": 4,
 "nbformat_minor": 5
}
