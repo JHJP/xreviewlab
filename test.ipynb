{
 "cells": [
  {
   "cell_type": "code",
   "execution_count": 1,
   "id": "5dcbdd88",
   "metadata": {},
   "outputs": [
    {
     "data": {
      "text/plain": [
       "Index(['goodsNo', 'nickname', 'profile_present', 'top_rank_present',\n",
       "       'badges_present', 'score', 'date', 'content', 'help_cnt',\n",
       "       'photo_present', 'word_count', 'damage', 'keywords', 'prd_link',\n",
       "       'prd_name', 'rating', 'prd_platform', 'real_keywords_all',\n",
       "       'real_keywords_dmg_dict', 'embedding', 'keyword_plan_info'],\n",
       "      dtype='object')"
      ]
     },
     "execution_count": 1,
     "metadata": {},
     "output_type": "execute_result"
    }
   ],
   "source": [
    "import pandas as pd\n",
    "df = pd.read_csv(\"total_brand_reviews_df.csv\")\n",
    "df.columns"
   ]
  },
  {
   "cell_type": "code",
   "execution_count": 18,
   "id": "a32122d5",
   "metadata": {},
   "outputs": [
    {
     "data": {
      "text/plain": [
       "0     {\"민감성 피부 문제\": {\"cost\": 18000000, \"time\": 14}, ...\n",
       "1     {\"민감성 피부 문제\": {\"cost\": 18000000, \"time\": 14}, ...\n",
       "2     {\"민감성 피부 문제\": {\"cost\": 18000000, \"time\": 14}, ...\n",
       "3     {\"민감성 피부 문제\": {\"cost\": 18000000, \"time\": 14}, ...\n",
       "4     {\"민감성 피부 문제\": {\"cost\": 18000000, \"time\": 14}, ...\n",
       "5     {\"보습 필요\": {\"cost\": 10500000, \"time\": 7}, \"불안감\"...\n",
       "6     {\"보습 필요\": {\"cost\": 10500000, \"time\": 7}, \"불안감\"...\n",
       "7     {\"보습 필요\": {\"cost\": 10500000, \"time\": 7}, \"불안감\"...\n",
       "8     {\"보습 필요\": {\"cost\": 10500000, \"time\": 7}, \"불안감\"...\n",
       "9     {\"보습 필요\": {\"cost\": 10500000, \"time\": 7}, \"불안감\"...\n",
       "10    {\"수딩크림\": {\"cost\": 8000000, \"time\": 5}, \"무거운 느낌...\n",
       "11    {\"수딩크림\": {\"cost\": 8000000, \"time\": 5}, \"무거운 느낌...\n",
       "12    {\"수딩크림\": {\"cost\": 8000000, \"time\": 5}, \"무거운 느낌...\n",
       "13    {\"수딩크림\": {\"cost\": 8000000, \"time\": 5}, \"무거운 느낌...\n",
       "14    {\"수딩크림\": {\"cost\": 8000000, \"time\": 5}, \"무거운 느낌...\n",
       "Name: keyword_plan_info, dtype: object"
      ]
     },
     "metadata": {},
     "output_type": "display_data"
    }
   ],
   "source": [
    "display(df[\"keyword_plan_info\"])\n"
   ]
  },
  {
   "cell_type": "code",
   "execution_count": 15,
   "id": "e77356d8",
   "metadata": {},
   "outputs": [
    {
     "data": {
      "text/plain": [
       "'{\"민감성 피부 문제\": {\"cost\": 18000000, \"time\": 14}, \"앰플 문제\": {\"cost\": 18000000, \"time\": 14}, \"좁쌀 발생\": {\"cost\": 0, \"time\": 0}, \"재구매 의사 없음\": {\"cost\": 0, \"time\": 0}, \"흡수 속도\": {\"cost\": 14000000, \"time\": 9}, \"연령 적합성\": {\"cost\": 0, \"time\": 0}, \"재고털이\": {\"cost\": 0, \"time\": 0}, \"제품 부작용\": {\"cost\": 18000000, \"time\": 14}}'"
      ]
     },
     "metadata": {},
     "output_type": "display_data"
    }
   ],
   "source": [
    "display(df[\"keyword_plan_info\"][1])"
   ]
  }
 ],
 "metadata": {
  "kernelspec": {
   "display_name": "Python 3",
   "language": "python",
   "name": "python3"
  },
  "language_info": {
   "codemirror_mode": {
    "name": "ipython",
    "version": 3
   },
   "file_extension": ".py",
   "mimetype": "text/x-python",
   "name": "python",
   "nbconvert_exporter": "python",
   "pygments_lexer": "ipython3",
   "version": "3.9.6"
  }
 },
 "nbformat": 4,
 "nbformat_minor": 5
}
