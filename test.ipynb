{
 "cells": [
  {
   "cell_type": "code",
   "execution_count": 1,
   "id": "5dcbdd88",
   "metadata": {},
   "outputs": [],
   "source": [
    "import pandas as pd\n",
    "df = pd.read_csv(\"total_brand_reviews_df.csv\")"
   ]
  },
  {
   "cell_type": "code",
   "execution_count": 4,
   "id": "a32122d5",
   "metadata": {},
   "outputs": [
    {
     "data": {
      "text/plain": [
       "\"['피부 자극', '앰플 문제', '좁쌀 발생', '재구매 의사 없음', '흡수 속도', '유통기한 짧음', '재고털이', '재고털이', '유통기한 짧음', '재고털이', '피부 자극', '제품 품질', '피부 자극']\""
      ]
     },
     "metadata": {},
     "output_type": "display_data"
    }
   ],
   "source": [
    "display(df[\"real_keywords_all\"][0])"
   ]
  }
 ],
 "metadata": {
  "kernelspec": {
   "display_name": "Python 3",
   "language": "python",
   "name": "python3"
  },
  "language_info": {
   "codemirror_mode": {
    "name": "ipython",
    "version": 3
   },
   "file_extension": ".py",
   "mimetype": "text/x-python",
   "name": "python",
   "nbconvert_exporter": "python",
   "pygments_lexer": "ipython3",
   "version": "3.9.6"
  }
 },
 "nbformat": 4,
 "nbformat_minor": 5
}
